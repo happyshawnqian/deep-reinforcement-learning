{
 "cells": [
  {
   "cell_type": "markdown",
   "metadata": {},
   "source": [
    "# Continuous Control\n",
    "\n",
    "---\n",
    "\n",
    "In this notebook, you will learn how to use the Unity ML-Agents environment for the second project of the [Deep Reinforcement Learning Nanodegree](https://www.udacity.com/course/deep-reinforcement-learning-nanodegree--nd893) program.\n",
    "\n",
    "### 1. Start the Environment\n",
    "\n",
    "We begin by importing the necessary packages.  If the code cell below returns an error, please revisit the project instructions to double-check that you have installed [Unity ML-Agents](https://github.com/Unity-Technologies/ml-agents/blob/master/docs/Installation.md) and [NumPy](http://www.numpy.org/)."
   ]
  },
  {
   "cell_type": "code",
   "execution_count": 1,
   "metadata": {},
   "outputs": [],
   "source": [
    "from unityagents import UnityEnvironment\n",
    "import numpy as np"
   ]
  },
  {
   "cell_type": "markdown",
   "metadata": {},
   "source": [
    "Next, we will start the environment!  **_Before running the code cell below_**, change the `file_name` parameter to match the location of the Unity environment that you downloaded.\n",
    "\n",
    "- **Mac**: `\"path/to/Reacher.app\"`\n",
    "- **Windows** (x86): `\"path/to/Reacher_Windows_x86/Reacher.exe\"`\n",
    "- **Windows** (x86_64): `\"path/to/Reacher_Windows_x86_64/Reacher.exe\"`\n",
    "- **Linux** (x86): `\"path/to/Reacher_Linux/Reacher.x86\"`\n",
    "- **Linux** (x86_64): `\"path/to/Reacher_Linux/Reacher.x86_64\"`\n",
    "- **Linux** (x86, headless): `\"path/to/Reacher_Linux_NoVis/Reacher.x86\"`\n",
    "- **Linux** (x86_64, headless): `\"path/to/Reacher_Linux_NoVis/Reacher.x86_64\"`\n",
    "\n",
    "For instance, if you are using a Mac, then you downloaded `Reacher.app`.  If this file is in the same folder as the notebook, then the line below should appear as follows:\n",
    "```\n",
    "env = UnityEnvironment(file_name=\"Reacher.app\")\n",
    "```"
   ]
  },
  {
   "cell_type": "code",
   "execution_count": 2,
   "metadata": {},
   "outputs": [
    {
     "name": "stderr",
     "output_type": "stream",
     "text": [
      "INFO:unityagents:\n",
      "'Academy' started successfully!\n",
      "Unity Academy name: Academy\n",
      "        Number of Brains: 1\n",
      "        Number of External Brains : 1\n",
      "        Lesson number : 0\n",
      "        Reset Parameters :\n",
      "\t\tgoal_speed -> 1.0\n",
      "\t\tgoal_size -> 5.0\n",
      "Unity brain name: ReacherBrain\n",
      "        Number of Visual Observations (per agent): 0\n",
      "        Vector Observation space type: continuous\n",
      "        Vector Observation space size (per agent): 33\n",
      "        Number of stacked Vector Observation: 1\n",
      "        Vector Action space type: continuous\n",
      "        Vector Action space size (per agent): 4\n",
      "        Vector Action descriptions: , , , \n"
     ]
    }
   ],
   "source": [
    "env = UnityEnvironment(file_name='E:/code/deep-reinforcement-learning/p2_continuous-control/Reacher_Windows_x86_64/Reacher.exe')"
   ]
  },
  {
   "cell_type": "markdown",
   "metadata": {},
   "source": [
    "Environments contain **_brains_** which are responsible for deciding the actions of their associated agents. Here we check for the first brain available, and set it as the default brain we will be controlling from Python."
   ]
  },
  {
   "cell_type": "code",
   "execution_count": 53,
   "metadata": {},
   "outputs": [],
   "source": [
    "# get the default brain\n",
    "brain_name = env.brain_names[0]\n",
    "brain = env.brains[brain_name]"
   ]
  },
  {
   "cell_type": "markdown",
   "metadata": {},
   "source": [
    "### 2. Examine the State and Action Spaces\n",
    "\n",
    "In this environment, a double-jointed arm can move to target locations. A reward of `+0.1` is provided for each step that the agent's hand is in the goal location. Thus, the goal of your agent is to maintain its position at the target location for as many time steps as possible.\n",
    "\n",
    "The observation space consists of `33` variables corresponding to position, rotation, velocity, and angular velocities of the arm.  Each action is a vector with four numbers, corresponding to torque applicable to two joints.  Every entry in the action vector must be a number between `-1` and `1`.\n",
    "\n",
    "Run the code cell below to print some information about the environment."
   ]
  },
  {
   "cell_type": "code",
   "execution_count": 54,
   "metadata": {},
   "outputs": [
    {
     "name": "stdout",
     "output_type": "stream",
     "text": [
      "Number of agents: 1\n",
      "Size of each action: 4\n",
      "There are 1 agents. Each observes a state with length: 33\n",
      "The state for the first agent looks like: [ 0.00000000e+00 -4.00000000e+00  0.00000000e+00  1.00000000e+00\n",
      " -0.00000000e+00 -0.00000000e+00 -4.37113883e-08  0.00000000e+00\n",
      "  0.00000000e+00  0.00000000e+00  0.00000000e+00  0.00000000e+00\n",
      "  0.00000000e+00  0.00000000e+00 -1.00000000e+01  0.00000000e+00\n",
      "  1.00000000e+00 -0.00000000e+00 -0.00000000e+00 -4.37113883e-08\n",
      "  0.00000000e+00  0.00000000e+00  0.00000000e+00  0.00000000e+00\n",
      "  0.00000000e+00  0.00000000e+00 -2.60454369e+00 -1.00000000e+00\n",
      "  7.56414890e+00  0.00000000e+00  1.00000000e+00  0.00000000e+00\n",
      " -8.36782694e-01]\n"
     ]
    }
   ],
   "source": [
    "# reset the environment\n",
    "env_info = env.reset(train_mode=True)[brain_name]\n",
    "\n",
    "# number of agents\n",
    "num_agents = len(env_info.agents)\n",
    "print('Number of agents:', num_agents)\n",
    "\n",
    "# size of each action\n",
    "action_size = brain.vector_action_space_size\n",
    "print('Size of each action:', action_size)\n",
    "\n",
    "# examine the state space \n",
    "states = env_info.vector_observations\n",
    "state_size = states.shape[1]\n",
    "print('There are {} agents. Each observes a state with length: {}'.format(states.shape[0], state_size))\n",
    "print('The state for the first agent looks like:', states[0])"
   ]
  },
  {
   "cell_type": "markdown",
   "metadata": {},
   "source": [
    "### 3. Take Random Actions in the Environment\n",
    "\n",
    "In the next code cell, you will learn how to use the Python API to control the agent and receive feedback from the environment.\n",
    "\n",
    "Once this cell is executed, you will watch the agent's performance, if it selects an action at random with each time step.  A window should pop up that allows you to observe the agent, as it moves through the environment.  \n",
    "\n",
    "Of course, as part of the project, you'll have to change the code so that the agent is able to use its experience to gradually choose better actions when interacting with the environment!"
   ]
  },
  {
   "cell_type": "code",
   "execution_count": 57,
   "metadata": {},
   "outputs": [
    {
     "name": "stdout",
     "output_type": "stream",
     "text": [
      "<class 'numpy.ndarray'>\n",
      "<class 'numpy.ndarray'>\n",
      "[[ 1.         -0.16268927  0.1270453  -1.        ]]\n",
      "Total score (averaged over agents) this episode: 0.0\n"
     ]
    }
   ],
   "source": [
    "env_info = env.reset(train_mode=False)[brain_name]     # reset the environment    \n",
    "states = env_info.vector_observations                  # get the current state (for each agent)\n",
    "scores = np.zeros(num_agents)                          # initialize the score (for each agent)\n",
    "while True:\n",
    "    actions = np.random.randn(num_agents, action_size) # select an action (for each agent)\n",
    "    actions = np.clip(actions, -1, 1)                  # all actions between -1 and 1\n",
    "    env_info = env.step(actions)[brain_name]           # send all actions to tne environment\n",
    "    next_states = env_info.vector_observations         # get next state (for each agent)\n",
    "    rewards = env_info.rewards                         # get reward (for each agent)\n",
    "    dones = env_info.local_done                        # see if episode finished\n",
    "    scores += env_info.rewards                         # update the score (for each agent)\n",
    "    states = next_states                               # roll over states to next time step\n",
    "    if np.any(dones):                                  # exit loop if episode finished\n",
    "        break\n",
    "print('Total score (averaged over agents) this episode: {}'.format(np.mean(scores)))"
   ]
  },
  {
   "cell_type": "markdown",
   "metadata": {},
   "source": [
    "When finished, you can close the environment."
   ]
  },
  {
   "cell_type": "code",
   "execution_count": 7,
   "metadata": {},
   "outputs": [],
   "source": [
    "env.close()"
   ]
  },
  {
   "cell_type": "markdown",
   "metadata": {},
   "source": [
    "### 4. It's Your Turn!\n",
    "\n",
    "Now it's your turn to train your own agent to solve the environment!  When training the environment, set `train_mode=True`, so that the line for resetting the environment looks like the following:\n",
    "```python\n",
    "env_info = env.reset(train_mode=True)[brain_name]\n",
    "```"
   ]
  },
  {
   "cell_type": "code",
   "execution_count": 1,
   "metadata": {},
   "outputs": [],
   "source": [
    "from unityagents import UnityEnvironment\n",
    "from collections import deque\n",
    "import numpy as np\n",
    "import matplotlib.pyplot as plt\n",
    "%matplotlib inline\n",
    "\n",
    "import torch\n",
    "torch.manual_seed(0) # set random seed\n",
    "import torch.nn as nn\n",
    "import torch.nn.functional as F\n",
    "import torch.optim as optim\n",
    "from torch.distributions import Categorical"
   ]
  },
  {
   "cell_type": "code",
   "execution_count": 2,
   "metadata": {},
   "outputs": [
    {
     "name": "stderr",
     "output_type": "stream",
     "text": [
      "INFO:unityagents:\n",
      "'Academy' started successfully!\n",
      "Unity Academy name: Academy\n",
      "        Number of Brains: 1\n",
      "        Number of External Brains : 1\n",
      "        Lesson number : 0\n",
      "        Reset Parameters :\n",
      "\t\tgoal_speed -> 1.0\n",
      "\t\tgoal_size -> 5.0\n",
      "Unity brain name: ReacherBrain\n",
      "        Number of Visual Observations (per agent): 0\n",
      "        Vector Observation space type: continuous\n",
      "        Vector Observation space size (per agent): 33\n",
      "        Number of stacked Vector Observation: 1\n",
      "        Vector Action space type: continuous\n",
      "        Vector Action space size (per agent): 4\n",
      "        Vector Action descriptions: , , , \n"
     ]
    }
   ],
   "source": [
    "env = UnityEnvironment(file_name='E:/code/deep-reinforcement-learning/p2_continuous-control/Reacher_Windows_x86_64/Reacher.exe')"
   ]
  },
  {
   "cell_type": "code",
   "execution_count": 3,
   "metadata": {},
   "outputs": [],
   "source": [
    "#brain_name = env.brain_names[0]\n",
    "#brain = env.brains[brain_name]"
   ]
  },
  {
   "cell_type": "code",
   "execution_count": 4,
   "metadata": {},
   "outputs": [],
   "source": [
    "# env_info = env.reset(train_mode=True)[brain_name]\n",
    "\n",
    "# num_agents = len(env_info.agents)\n",
    "# action_size = brain.vector_action_space_size\n",
    "# state_size = env_info.vector_observations.shape[1]"
   ]
  },
  {
   "cell_type": "code",
   "execution_count": 5,
   "metadata": {},
   "outputs": [],
   "source": [
    "device = torch.device(\"cuda\" if torch.cuda.is_available() else \"cpu\")\n",
    "#device = torch.device(\"cpu\")\n",
    "\n",
    "class Agent(nn.Module):\n",
    "    def __init__(self, env, h_size=128):\n",
    "        super(Agent, self).__init__()\n",
    "        self.env = env\n",
    "        self.brain_name = env.brain_names[0]\n",
    "        self.brain = env.brains[self.brain_name]\n",
    "        self.env_info = env.reset(train_mode=True)[self.brain_name]        \n",
    "        \n",
    "        self.num_agents = len(self.env_info.agents)\n",
    "        self.a_size = self.brain.vector_action_space_size\n",
    "        self.s_size = self.env_info.vector_observations.shape[1]\n",
    "        self.h_size = h_size\n",
    "        \n",
    "        # define layers\n",
    "        self.fc1 = nn.Linear(self.s_size, self.h_size)\n",
    "        self.fc2 = nn.Linear(self.h_size, self.a_size)\n",
    "    \n",
    "    def set_weights(self, weights):\n",
    "        s_size = self.s_size\n",
    "        h_size = self.h_size\n",
    "        a_size = self.a_size\n",
    "        # separate the weights for each layer\n",
    "        fc1_end = (s_size * h_size) + h_size\n",
    "        fc1_W = torch.from_numpy(weights[: s_size*h_size].reshape(s_size, h_size))\n",
    "        fc1_b = torch.from_numpy(weights[s_size*h_size:fc1_end])\n",
    "        fc2_W = torch.from_numpy(weights[fc1_end : fc1_end+(h_size*a_size)].reshape(h_size, a_size))\n",
    "        fc2_b = torch.from_numpy(weights[fc1_end + (h_size*a_size):])\n",
    "        # set the weights for each layer\n",
    "        self.fc1.weight.data.copy_(fc1_W.view_as(self.fc1.weight.data))\n",
    "        self.fc1.bias.data.copy_(fc1_b.view_as(self.fc1.bias.data))\n",
    "        self.fc2.weight.data.copy_(fc2_W.view_as(self.fc2.weight.data))\n",
    "        self.fc2.bias.data.copy_(fc2_b.view_as(self.fc2.bias.data))\n",
    "        \n",
    "    def get_weights_dim(self):\n",
    "        return (self.s_size+1)*self.h_size + (self.h_size+1)*self.a_size\n",
    "    \n",
    "    def forward(self, x):\n",
    "        x = F.relu(self.fc1(x))\n",
    "        x = F.tanh(self.fc2(x))\n",
    "        return x.cpu().data\n",
    "    \n",
    "    def evaluate(self, weights, gamma=1):\n",
    "        self.set_weights(weights)\n",
    "        env_info = self.env.reset(train_mode=True)[self.brain_name]\n",
    "        states = env_info.vector_observations\n",
    "        state = torch.from_numpy(states[0]).float().to(device)\n",
    "        scores = np.zeros(self.num_agents)\n",
    "        \n",
    "        flag = True\n",
    "        \n",
    "        while True:\n",
    "            #state = torch.from_numpy(states[0]).float().to(device)\n",
    "            actions = self.forward(state).numpy() # not sure whether states size type fits\n",
    "            \n",
    "            if flag:\n",
    "                print(actions)\n",
    "                flag=False\n",
    "                \n",
    "            env_info = self.env.step(actions)[self.brain_name]\n",
    "            next_states = env_info.vector_observations\n",
    "            rewards = env_info.rewards\n",
    "            dones = env_info.local_done\n",
    "            scores += env_info.rewards\n",
    "            states = next_states\n",
    "            state = torch.from_numpy(states[0]).float().to(device)\n",
    "            if np.any(dones):\n",
    "                break\n",
    "        return scores[0]"
   ]
  },
  {
   "cell_type": "code",
   "execution_count": 6,
   "metadata": {
    "scrolled": true
   },
   "outputs": [],
   "source": [
    "agent = Agent(env).to(device)"
   ]
  },
  {
   "cell_type": "code",
   "execution_count": 7,
   "metadata": {},
   "outputs": [
    {
     "name": "stdout",
     "output_type": "stream",
     "text": [
      "[-1.         -1.         -1.          0.99977785]\n"
     ]
    },
    {
     "data": {
      "text/plain": [
       "0.6499999854713678"
      ]
     },
     "execution_count": 7,
     "metadata": {},
     "output_type": "execute_result"
    }
   ],
   "source": [
    "# test agent.evaluate\n",
    "initial_weights = 0.5*np.random.randn(agent.get_weights_dim())\n",
    "agent.evaluate(initial_weights)"
   ]
  },
  {
   "cell_type": "code",
   "execution_count": 8,
   "metadata": {
    "scrolled": true
   },
   "outputs": [],
   "source": [
    "def cem(n_iterations=10, gamma=0.8, print_every=1, pop_size=10, elite_frac=0.2, sigma=0.5):\n",
    "    n_elite = int(pop_size * elite_frac)\n",
    "    \n",
    "    scores_deque = deque(maxlen = 100)\n",
    "    scores = []\n",
    "    best_weight = sigma * np.random.randn(agent.get_weights_dim())\n",
    "    \n",
    "    for i_iteration in range(1, n_iterations+1):\n",
    "        weights_pop = [best_weight + (sigma*np.random.randn(agent.get_weights_dim())) for i in range(pop_size)]\n",
    "        rewards = np.array([agent.evaluate(weights, gamma) for weights in weights_pop])\n",
    "        \n",
    "        elite_idxs = rewards.argsort()[-n_elite:]\n",
    "        elite_weights = [weights_pop[i] for i in elite_idxs]\n",
    "        best_weight = np.array(elite_weights).mean(axis=0)\n",
    "        \n",
    "        reward = agent.evaluate(best_weight, gamma = 1.0)\n",
    "        scores_deque.append(reward)\n",
    "        scores.append(reward)\n",
    "        \n",
    "        torch.save(agent.state_dict(), 'checkpoint.pth')\n",
    "        \n",
    "        if i_iteration % print_every == 0:\n",
    "            print('Episode {}\\tAverage Score: {:.2f}'.format(i_iteration, np.mean(scores_deque)))\n",
    "            \n",
    "        if np.mean(scores_deque)>=90.0:\n",
    "            print('\\nEnvironment solved in {:d} iterations!\\tAverage Score: {:.2f}'.format(i_iteration-100, np.mean(scores_deque)))\n",
    "            break\n",
    "    return scores"
   ]
  },
  {
   "cell_type": "code",
   "execution_count": 9,
   "metadata": {},
   "outputs": [
    {
     "name": "stdout",
     "output_type": "stream",
     "text": [
      "[-1.         1.        -1.        -0.7114674]\n",
      "[-1.         1.         0.9999996 -1.       ]\n",
      "[ 1.         -0.92850393 -1.         -1.        ]\n",
      "[-1. -1.  1.  1.]\n",
      "[ 1.  1. -1. -1.]\n",
      "[-0.99999994 -1.         -1.          1.        ]\n",
      "[-1.  1. -1.  1.]\n",
      "[-0.9999997 -1.         1.         1.       ]\n",
      "[-0.98959404 -0.51257455 -1.         -1.        ]\n",
      "[ 1.         1.        -1.        -0.9748815]\n",
      "[-1. -1.  1.  1.]\n",
      "Episode 1\tAverage Score: 0.65\n",
      "[-1.        -1.        -1.        -0.9999985]\n",
      "[-1.  1.  1.  1.]\n",
      "[-0.99999976 -0.9996888  -1.          1.        ]\n",
      "[-1. -1. -1.  1.]\n",
      "[-1. -1. -1.  1.]\n",
      "[-1. -1.  1.  1.]\n",
      "[-1.          0.93343574  1.          1.        ]\n",
      "[-1.  1. -1.  1.]\n",
      "[-1. -1. -1.  1.]\n",
      "[-1. -1. -1.  1.]\n",
      "[-1. -1. -1.  1.]\n",
      "Episode 2\tAverage Score: 0.42\n",
      "[ 1.  1. -1. -1.]\n",
      "[-1.        -0.9088846  1.         1.       ]\n",
      "[-1. -1. -1.  1.]\n",
      "[-1.  1. -1.  1.]\n",
      "[-1.  1.  1.  1.]\n",
      "[-0.9789748  -0.99813324 -1.          1.        ]\n",
      "[ 0.99930334 -1.         -1.          1.        ]\n",
      "[-1.        -1.        -0.9999997 -1.       ]\n",
      "[-1.          0.77145565  1.          1.        ]\n",
      "[-1.  1.  1.  1.]\n",
      "[-1.         -1.          1.          0.99999803]\n",
      "Episode 3\tAverage Score: 0.51\n",
      "[-1. -1. -1. -1.]\n",
      "[-1.         -1.          0.98066926  1.        ]\n",
      "[-0.9999181 -1.        -1.         1.       ]\n",
      "[-1. -1.  1.  1.]\n",
      "[-1. -1. -1.  1.]\n",
      "[-1. -1. -1. -1.]\n",
      "[ 1. -1. -1.  1.]\n",
      "[-1. -1.  1.  1.]\n",
      "[-1.       -1.        0.999231  1.      ]\n",
      "[ 1. -1. -1. -1.]\n",
      "[-1. -1. -1.  1.]\n",
      "Episode 4\tAverage Score: 0.68\n",
      "[-1. -1.  1.  1.]\n",
      "[ 1.        -1.         1.         0.9998927]\n",
      "[-1. -1. -1.  1.]\n",
      "[ 1.  1. -1. -1.]\n",
      "[ 1. -1.  1.  1.]\n",
      "[ 1. -1.  1.  1.]\n",
      "[-1. -1. -1.  1.]\n",
      "[-1. -1.  1.  1.]\n",
      "[-1. -1.  1.  1.]\n",
      "[-1. -1. -1.  1.]\n",
      "[-1. -1.  1.  1.]\n",
      "Episode 5\tAverage Score: 0.65\n",
      "[1. 1. 1. 1.]\n",
      "[-1.  1.  1.  1.]\n",
      "[-1. -1.  1.  1.]\n",
      "[-1. -1. -1.  1.]\n",
      "[-1.        -1.        -0.6566415  1.       ]\n",
      "[-1. -1. -1.  1.]\n",
      "[-0.99998623  1.          1.         -1.        ]\n",
      "[ 1. -1.  1.  1.]\n",
      "[-1.        0.999999 -1.        1.      ]\n",
      "[ 1. -1.  1.  1.]\n",
      "[-1.          0.98787713  1.          1.        ]\n",
      "Episode 6\tAverage Score: 0.77\n",
      "[-1. -1. -1.  1.]\n",
      "[ 0.9999879 -1.        -1.         1.       ]\n",
      "[-1. -1. -1.  1.]\n",
      "[-1. -1. -1. -1.]\n",
      "[-1. -1. -1.  1.]\n",
      "[-1. -1.  1.  1.]\n",
      "[-1.        0.997165  1.        1.      ]\n",
      "[-1. -1. -1.  1.]\n",
      "[-1. -1. -1.  1.]\n",
      "[-1.  1. -1.  1.]\n",
      "[-1.        -1.        -0.9545733  1.       ]\n",
      "Episode 7\tAverage Score: 0.66\n",
      "[-1. -1.  1.  1.]\n",
      "[-1. -1. -1.  1.]\n",
      "[-1. -1.  1. -1.]\n",
      "[-1. -1.  1. -1.]\n",
      "[-1. -1.  1.  1.]\n",
      "[-1. -1. -1.  1.]\n",
      "[-1. -1.  1. -1.]\n",
      "[-1. -1.  1. -1.]\n",
      "[-1. -1.  1.  1.]\n",
      "[-1. -1. -1. -1.]\n",
      "[-1.  1.  1. -1.]\n",
      "Episode 8\tAverage Score: 0.60\n",
      "[-1. -1. -1.  1.]\n",
      "[-1.  1.  1. -1.]\n",
      "[-1. -1. -1.  1.]\n",
      "[ 1. -1.  1.  1.]\n",
      "[-1.         -1.         -0.45857236 -1.        ]\n",
      "[-1. -1.  1.  1.]\n",
      "[-1. -1.  1.  1.]\n",
      "[-1.  1.  1. -1.]\n",
      "[ 1.        -1.         1.         0.8686425]\n",
      "[-1. -1. -1. -1.]\n",
      "[-1.  1.  1.  1.]\n",
      "Episode 9\tAverage Score: 0.53\n",
      "[-1.  1.  1.  1.]\n",
      "[-1. -1.  1. -1.]\n",
      "[-1. -1. -1. -1.]\n",
      "[-1.          1.          0.99999964  1.        ]\n",
      "[-1.  1.  1.  1.]\n",
      "[-1.  1.  1.  1.]\n",
      "[-1. -1.  1.  1.]\n",
      "[-1. -1.  1.  1.]\n",
      "[-1.  1.  1. -1.]\n",
      "[-1.         -0.03166832  1.          1.        ]\n",
      "[-1. -1.  1. -1.]\n",
      "Episode 10\tAverage Score: 0.48\n"
     ]
    },
    {
     "data": {
      "image/png": "[encoded data removed]",
      "text/plain": [
       "<Figure size 432x288 with 1 Axes>"
      ]
     },
     "metadata": {
      "needs_background": "light"
     },
     "output_type": "display_data"
    }
   ],
   "source": [
    "scores = cem()\n",
    "\n",
    "# plot the scores\n",
    "fig = plt.figure()\n",
    "ax = fig.add_subplot(111)\n",
    "plt.plot(np.arange(1, len(scores)+1), scores)\n",
    "plt.ylabel('Score')\n",
    "plt.xlabel('Episode #')\n",
    "plt.show()"
   ]
  },
  {
   "cell_type": "code",
   "execution_count": 8,
   "metadata": {},
   "outputs": [],
   "source": [
    "env.close()"
   ]
  }
 ],
 "metadata": {
  "kernelspec": {
   "display_name": "drlnd",
   "language": "python",
   "name": "drlnd"
  },
  "language_info": {
   "codemirror_mode": {
    "name": "ipython",
    "version": 3
   },
   "file_extension": ".py",
   "mimetype": "text/x-python",
   "name": "python",
   "nbconvert_exporter": "python",
   "pygments_lexer": "ipython3",
   "version": "3.6.13"
  }
 },
 "nbformat": 4,
 "nbformat_minor": 2
}
